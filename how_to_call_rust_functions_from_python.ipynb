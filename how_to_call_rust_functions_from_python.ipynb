{
 "cells": [
  {
   "cell_type": "code",
   "execution_count": 8,
   "id": "28100bb6-71c7-4e08-aaa3-ae081c258490",
   "metadata": {},
   "outputs": [],
   "source": [
    "from rusty_python import gc_content"
   ]
  },
  {
   "cell_type": "code",
   "execution_count": 9,
   "id": "655f218c-7a4a-4bf1-b468-51519e179c45",
   "metadata": {},
   "outputs": [],
   "source": [
    "dna_sequence = \"CCACCCTCGTGGTATGGCTAGGCATTCAGGAACCGGAGAACGCTTCAGACCAGCCCGGACTGGGAACCTGCGGGCAGTAGGTGGAAT\""
   ]
  },
  {
   "cell_type": "code",
   "execution_count": 10,
   "id": "57d19875-1d69-4b3f-86b1-a345c2df5f4a",
   "metadata": {},
   "outputs": [
    {
     "data": {
      "text/plain": [
       "0.6091954112052917"
      ]
     },
     "execution_count": 10,
     "metadata": {},
     "output_type": "execute_result"
    }
   ],
   "source": [
    "gc_content(dna_sequence)"
   ]
  },
  {
   "cell_type": "code",
   "execution_count": null,
   "id": "9b2ae655-4480-4060-968a-57b650616c32",
   "metadata": {},
   "outputs": [],
   "source": []
  }
 ],
 "metadata": {
  "kernelspec": {
   "display_name": "Python 3 (ipykernel)",
   "language": "python",
   "name": "python3"
  },
  "language_info": {
   "codemirror_mode": {
    "name": "ipython",
    "version": 3
   },
   "file_extension": ".py",
   "mimetype": "text/x-python",
   "name": "python",
   "nbconvert_exporter": "python",
   "pygments_lexer": "ipython3",
   "version": "3.9.12"
  }
 },
 "nbformat": 4,
 "nbformat_minor": 5
}
