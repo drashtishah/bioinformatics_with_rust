{
 "cells": [
  {
   "cell_type": "code",
   "execution_count": 5,
   "id": "a463f103-22a4-46ec-8f3c-728145633369",
   "metadata": {},
   "outputs": [],
   "source": [
    "use std::process::Command;"
   ]
  },
  {
   "cell_type": "code",
   "execution_count": 6,
   "id": "941f1fda-bf57-43e4-bce9-592e34e8d2d6",
   "metadata": {},
   "outputs": [],
   "source": [
    "// Create a new command that runs bash\n",
    "let mut command = Command::new(\"bash\");\n",
    "\n",
    "// Pass the script name as an argument\n",
    "command.arg(\"example_bash_script.sh\");\n",
    "\n",
    "// Execute the command\n",
    "// This will download a file called ncbi_dataset.zip in the current directory\n",
    "command.output().expect(\"Failed to execute command\");"
   ]
  }
 ],
 "metadata": {
  "kernelspec": {
   "display_name": "Rust",
   "language": "rust",
   "name": "rust"
  },
  "language_info": {
   "codemirror_mode": "rust",
   "file_extension": ".rs",
   "mimetype": "text/rust",
   "name": "Rust",
   "pygment_lexer": "rust",
   "version": ""
  }
 },
 "nbformat": 4,
 "nbformat_minor": 5
}
